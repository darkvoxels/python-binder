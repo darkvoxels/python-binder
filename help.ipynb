{
 "cells": [
  {
   "cell_type": "code",
   "execution_count": null,
   "id": "35d216ed",
   "metadata": {},
   "outputs": [],
   "source": [
    "import sqlite3\n",
    "\n",
    "############################################################################################################\n",
    "# HELP\n",
    "############################################################################################################\n",
    "# The file \"database.sqlite3\" is a sqlite3 database with a table named mw_domains and contains the columns\n",
    "#    \"domain\", \"type\", \"ref\"\n",
    "\n",
    "\n",
    "#Connect to Database\n",
    "database = sqlite3.connect(\"database.sqlite3\")\n",
    "\n",
    "#Database Cursor for executing queries \n",
    "cur = database.cursor()\n",
    "\n",
    "#Populate with Query\n",
    "sql_query = \"\"\n",
    "\n",
    "#Execute Query and return response\n",
    "response = cur.execute(sql_query)\n",
    "\n",
    "#Commit Changes\n",
    "database.commit()\n",
    "\n",
    "#Close Database Connection\n",
    "database.close()"
   ]
  }
 ],
 "metadata": {
  "kernelspec": {
   "display_name": "Python 3",
   "language": "python",
   "name": "python3"
  },
  "language_info": {
   "codemirror_mode": {
    "name": "ipython",
    "version": 3
   },
   "file_extension": ".py",
   "mimetype": "text/x-python",
   "name": "python",
   "nbconvert_exporter": "python",
   "pygments_lexer": "ipython3",
   "version": "3.8.8"
  }
 },
 "nbformat": 4,
 "nbformat_minor": 5
}
