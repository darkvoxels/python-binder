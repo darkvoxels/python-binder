{
 "cells": [
  {
   "cell_type": "code",
   "execution_count": 39,
   "id": "d665611a",
   "metadata": {},
   "outputs": [],
   "source": [
    "import sqlite3\n",
    "database = sqlite3.connect(\"database.sqlite3\")\n",
    "cur = database.cursor()\n",
    "response = cur.execute('CREATE TABLE mw_domains (\"domain\",\"type\",\"ref\")')\n",
    "database.commit()\n",
    "\n",
    "# #Open Cleaned CSV File\n",
    "# csv_file = open(\"cleaned_file.csv\", \"r\")\n",
    "\n",
    "# #Insert CSV file line by line\n",
    "# for l in csv_file:\n",
    "#     sql_query = \"INSERT INTO mw_domains VALUES (?,?,?)\"\n",
    "#     data = l.split(\",\")\n",
    "#     scur.execute(sql_query, data)\n",
    "\n",
    "# #Commit Insert\n",
    "# database.commit()\n",
    "\n",
    "# csv_file.close()"
   ]
  },
  {
   "cell_type": "code",
   "execution_count": 38,
   "id": "7f64ad40",
   "metadata": {},
   "outputs": [],
   "source": [
    "# QUERY DATABASE\n",
    "sql_query = \"\"\n",
    "response = cur.execute(sql_query)"
   ]
  },
  {
   "cell_type": "code",
   "execution_count": 41,
   "id": "19ec8aa2",
   "metadata": {},
   "outputs": [],
   "source": []
  },
  {
   "cell_type": "code",
   "execution_count": null,
   "id": "e72f4d7c",
   "metadata": {},
   "outputs": [],
   "source": []
  },
  {
   "cell_type": "code",
   "execution_count": null,
   "id": "bd3f82da",
   "metadata": {},
   "outputs": [],
   "source": []
  }
 ],
 "metadata": {
  "kernelspec": {
   "display_name": "Python 3",
   "language": "python",
   "name": "python3"
  },
  "language_info": {
   "codemirror_mode": {
    "name": "ipython",
    "version": 3
   },
   "file_extension": ".py",
   "mimetype": "text/x-python",
   "name": "python",
   "nbconvert_exporter": "python",
   "pygments_lexer": "ipython3",
   "version": "3.8.8"
  }
 },
 "nbformat": 4,
 "nbformat_minor": 5
}
